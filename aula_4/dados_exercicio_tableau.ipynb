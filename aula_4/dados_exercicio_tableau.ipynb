{
 "cells": [
  {
   "cell_type": "code",
   "execution_count": 17,
   "metadata": {},
   "outputs": [],
   "source": [
    "import numpy as np\n",
    "import pandas as pd\n",
    "import matplotlib.pyplot as plt"
   ]
  },
  {
   "cell_type": "code",
   "execution_count": 18,
   "metadata": {},
   "outputs": [
    {
     "name": "stdout",
     "output_type": "stream",
     "text": [
      "01-demo.twb\t      dados_exercicio_tableau.ipynb\r\n",
      "02-sf_crime_data.twb  dataset\r\n",
      "03-R_integration.twb  getting_started_transcript.pdf\r\n"
     ]
    }
   ],
   "source": [
    "!dir"
   ]
  },
  {
   "cell_type": "code",
   "execution_count": 21,
   "metadata": {},
   "outputs": [],
   "source": [
    "crimedf = pd.read_csv('dataset/sf_crime_data/train.csv')"
   ]
  },
  {
   "cell_type": "code",
   "execution_count": 34,
   "metadata": {},
   "outputs": [
    {
     "data": {
      "text/html": [
       "<div>\n",
       "<style scoped>\n",
       "    .dataframe tbody tr th:only-of-type {\n",
       "        vertical-align: middle;\n",
       "    }\n",
       "\n",
       "    .dataframe tbody tr th {\n",
       "        vertical-align: top;\n",
       "    }\n",
       "\n",
       "    .dataframe thead th {\n",
       "        text-align: right;\n",
       "    }\n",
       "</style>\n",
       "<table border=\"1\" class=\"dataframe\">\n",
       "  <thead>\n",
       "    <tr style=\"text-align: right;\">\n",
       "      <th></th>\n",
       "      <th>Dates</th>\n",
       "      <th>Category</th>\n",
       "      <th>Descript</th>\n",
       "      <th>DayOfWeek</th>\n",
       "      <th>PdDistrict</th>\n",
       "      <th>Resolution</th>\n",
       "      <th>Address</th>\n",
       "      <th>X</th>\n",
       "      <th>Y</th>\n",
       "      <th>PDDistrict_lat</th>\n",
       "      <th>PDDistrict_long</th>\n",
       "    </tr>\n",
       "  </thead>\n",
       "  <tbody>\n",
       "    <tr>\n",
       "      <th>0</th>\n",
       "      <td>2015-05-13 23:53:00</td>\n",
       "      <td>WARRANTS</td>\n",
       "      <td>WARRANT ARREST</td>\n",
       "      <td>Wednesday</td>\n",
       "      <td>NORTHERN</td>\n",
       "      <td>ARREST, BOOKED</td>\n",
       "      <td>OAK ST / LAGUNA ST</td>\n",
       "      <td>-122.425892</td>\n",
       "      <td>37.774599</td>\n",
       "      <td>37.792330</td>\n",
       "      <td>-122.426428</td>\n",
       "    </tr>\n",
       "    <tr>\n",
       "      <th>1</th>\n",
       "      <td>2015-05-13 23:53:00</td>\n",
       "      <td>OTHER OFFENSES</td>\n",
       "      <td>TRAFFIC VIOLATION ARREST</td>\n",
       "      <td>Wednesday</td>\n",
       "      <td>NORTHERN</td>\n",
       "      <td>ARREST, BOOKED</td>\n",
       "      <td>OAK ST / LAGUNA ST</td>\n",
       "      <td>-122.425892</td>\n",
       "      <td>37.774599</td>\n",
       "      <td>37.792330</td>\n",
       "      <td>-122.426428</td>\n",
       "    </tr>\n",
       "    <tr>\n",
       "      <th>2</th>\n",
       "      <td>2015-05-13 23:33:00</td>\n",
       "      <td>OTHER OFFENSES</td>\n",
       "      <td>TRAFFIC VIOLATION ARREST</td>\n",
       "      <td>Wednesday</td>\n",
       "      <td>NORTHERN</td>\n",
       "      <td>ARREST, BOOKED</td>\n",
       "      <td>VANNESS AV / GREENWICH ST</td>\n",
       "      <td>-122.424363</td>\n",
       "      <td>37.800414</td>\n",
       "      <td>37.792330</td>\n",
       "      <td>-122.426428</td>\n",
       "    </tr>\n",
       "    <tr>\n",
       "      <th>3</th>\n",
       "      <td>2015-05-13 23:30:00</td>\n",
       "      <td>LARCENY/THEFT</td>\n",
       "      <td>GRAND THEFT FROM LOCKED AUTO</td>\n",
       "      <td>Wednesday</td>\n",
       "      <td>NORTHERN</td>\n",
       "      <td>NONE</td>\n",
       "      <td>1500 Block of LOMBARD ST</td>\n",
       "      <td>-122.426995</td>\n",
       "      <td>37.800873</td>\n",
       "      <td>37.792330</td>\n",
       "      <td>-122.426428</td>\n",
       "    </tr>\n",
       "    <tr>\n",
       "      <th>4</th>\n",
       "      <td>2015-05-13 23:30:00</td>\n",
       "      <td>LARCENY/THEFT</td>\n",
       "      <td>GRAND THEFT FROM LOCKED AUTO</td>\n",
       "      <td>Wednesday</td>\n",
       "      <td>PARK</td>\n",
       "      <td>NONE</td>\n",
       "      <td>100 Block of BRODERICK ST</td>\n",
       "      <td>-122.438738</td>\n",
       "      <td>37.771541</td>\n",
       "      <td>37.772418</td>\n",
       "      <td>-122.445369</td>\n",
       "    </tr>\n",
       "  </tbody>\n",
       "</table>\n",
       "</div>"
      ],
      "text/plain": [
       "                 Dates        Category                      Descript  \\\n",
       "0  2015-05-13 23:53:00        WARRANTS                WARRANT ARREST   \n",
       "1  2015-05-13 23:53:00  OTHER OFFENSES      TRAFFIC VIOLATION ARREST   \n",
       "2  2015-05-13 23:33:00  OTHER OFFENSES      TRAFFIC VIOLATION ARREST   \n",
       "3  2015-05-13 23:30:00   LARCENY/THEFT  GRAND THEFT FROM LOCKED AUTO   \n",
       "4  2015-05-13 23:30:00   LARCENY/THEFT  GRAND THEFT FROM LOCKED AUTO   \n",
       "\n",
       "   DayOfWeek PdDistrict      Resolution                    Address  \\\n",
       "0  Wednesday   NORTHERN  ARREST, BOOKED         OAK ST / LAGUNA ST   \n",
       "1  Wednesday   NORTHERN  ARREST, BOOKED         OAK ST / LAGUNA ST   \n",
       "2  Wednesday   NORTHERN  ARREST, BOOKED  VANNESS AV / GREENWICH ST   \n",
       "3  Wednesday   NORTHERN            NONE   1500 Block of LOMBARD ST   \n",
       "4  Wednesday       PARK            NONE  100 Block of BRODERICK ST   \n",
       "\n",
       "            X          Y  PDDistrict_lat  PDDistrict_long  \n",
       "0 -122.425892  37.774599       37.792330      -122.426428  \n",
       "1 -122.425892  37.774599       37.792330      -122.426428  \n",
       "2 -122.424363  37.800414       37.792330      -122.426428  \n",
       "3 -122.426995  37.800873       37.792330      -122.426428  \n",
       "4 -122.438738  37.771541       37.772418      -122.445369  "
      ]
     },
     "execution_count": 34,
     "metadata": {},
     "output_type": "execute_result"
    }
   ],
   "source": [
    "crimedf.head()\n"
   ]
  },
  {
   "cell_type": "code",
   "execution_count": 24,
   "metadata": {},
   "outputs": [
    {
     "name": "stdout",
     "output_type": "stream",
     "text": [
      "<class 'pandas.core.frame.DataFrame'>\n",
      "RangeIndex: 878049 entries, 0 to 878048\n",
      "Data columns (total 9 columns):\n",
      "Dates         878049 non-null object\n",
      "Category      878049 non-null object\n",
      "Descript      878049 non-null object\n",
      "DayOfWeek     878049 non-null object\n",
      "PdDistrict    878049 non-null object\n",
      "Resolution    878049 non-null object\n",
      "Address       878049 non-null object\n",
      "X             878049 non-null float64\n",
      "Y             878049 non-null float64\n",
      "dtypes: float64(2), object(7)\n",
      "memory usage: 60.3+ MB\n"
     ]
    }
   ],
   "source": [
    "crimedf.info()"
   ]
  },
  {
   "cell_type": "code",
   "execution_count": 11,
   "metadata": {},
   "outputs": [
    {
     "data": {
      "text/plain": [
       "array(['Wednesday', 'Tuesday', 'Monday', 'Sunday', 'Saturday', 'Friday',\n",
       "       'Thursday'], dtype=object)"
      ]
     },
     "execution_count": 11,
     "metadata": {},
     "output_type": "execute_result"
    }
   ],
   "source": [
    "crimedf['DayOfWeek'].unique()"
   ]
  },
  {
   "cell_type": "markdown",
   "metadata": {},
   "source": [
    "* Transformar DayOfWeek num número\n",
    "* Extrair Category e Resolution para uma tabela externa"
   ]
  },
  {
   "cell_type": "code",
   "execution_count": 24,
   "metadata": {},
   "outputs": [],
   "source": [
    "resolution = crimedf['Resolution'].unique()\n",
    "resolution_df = pd.DataFrame(resolution_df)\n",
    "\n",
    "category = crimedf['Category'].unique()\n",
    "category_df = pd.DataFrame(category_df)"
   ]
  },
  {
   "cell_type": "code",
   "execution_count": 29,
   "metadata": {},
   "outputs": [],
   "source": [
    "crimedf['Resolution_ID'] = -1\n",
    "for idx,ID in enumerate(resolution):\n",
    "    crimedf.loc[crimedf['Resolution']==ID,'Resolution_ID'] = idx"
   ]
  },
  {
   "cell_type": "code",
   "execution_count": 31,
   "metadata": {},
   "outputs": [],
   "source": [
    "crimedf['Category_ID'] = -1\n",
    "for idx,ID in enumerate(category):\n",
    "    crimedf.loc[crimedf['Category']==ID,'Category_ID'] = idx"
   ]
  },
  {
   "cell_type": "code",
   "execution_count": 33,
   "metadata": {},
   "outputs": [],
   "source": [
    "resolution_df.to_csv('resolution.csv')\n",
    "category_df.to_csv('category.csv')"
   ]
  },
  {
   "cell_type": "code",
   "execution_count": 38,
   "metadata": {},
   "outputs": [],
   "source": [
    "new_crime_df = crimedf.drop(columns=['Category','Resolution'])"
   ]
  },
  {
   "cell_type": "code",
   "execution_count": 41,
   "metadata": {},
   "outputs": [],
   "source": [
    "new_crime_df.head()\n",
    "new_crime_df.to_csv('crime_sf.csv',index=False,decimal=',')"
   ]
  },
  {
   "cell_type": "code",
   "execution_count": 4,
   "metadata": {},
   "outputs": [],
   "source": [
    "crime_df2 = pd.read_csv('dataset/sf_crime_data/crime_sf.csv')"
   ]
  },
  {
   "cell_type": "code",
   "execution_count": 16,
   "metadata": {},
   "outputs": [
    {
     "data": {
      "text/plain": [
       "0           -122,425891675136\n",
       "1           -122,425891675136\n",
       "2            -122,42436302145\n",
       "3         -122,42699532676599\n",
       "4           -122,438737622757\n",
       "5         -122,40325236121201\n",
       "6           -122,423326976668\n",
       "7           -122,371274317441\n",
       "8           -122,508194031117\n",
       "9           -122,419087676747\n",
       "10          -122,419087676747\n",
       "11          -122,487983072777\n",
       "12        -122,41241426358101\n",
       "13          -122,432914603494\n",
       "14          -122,397744427103\n",
       "15        -122,38369150395901\n",
       "16          -122,412597377187\n",
       "17          -122,421681531572\n",
       "18        -122,38640086995301\n",
       "19          -122,412249767634\n",
       "20          -122,449389111284\n",
       "21          -122,420272135283\n",
       "22          -122,412249767634\n",
       "23          -122,412249767634\n",
       "24        -122,43604920358601\n",
       "25        -122,41050925879499\n",
       "26        -122,43101755702699\n",
       "27        -122,42365634294501\n",
       "28          -122,475773497852\n",
       "29        -122,49978712068999\n",
       "                 ...         \n",
       "878019    -122,41029351969699\n",
       "878020    -122,42064189374099\n",
       "878021      -122,431191273813\n",
       "878022      -122,419515708414\n",
       "878023      -122,416893710739\n",
       "878024    -122,43778056071301\n",
       "878025    -122,38770979664301\n",
       "878026    -122,38770979664301\n",
       "878027    -122,40970842372101\n",
       "878028    -122,41029351969699\n",
       "878029    -122,43442328150299\n",
       "878030    -122,43442328150299\n",
       "878031    -122,39041695551701\n",
       "878032      -122,423031175095\n",
       "878033    -122,39166839300199\n",
       "878034    -122,39166839300199\n",
       "878035      -122,431046366089\n",
       "878036      -122,431046366089\n",
       "878037      -122,431046366089\n",
       "878038      -122,411518820366\n",
       "878039    -122,42069168079901\n",
       "878040    -122,41407332511001\n",
       "878041      -122,472984835661\n",
       "878042      -122,389768984951\n",
       "878043      -122,389768984951\n",
       "878044      -122,459033097784\n",
       "878045      -122,447363507104\n",
       "878046      -122,403390364804\n",
       "878047    -122,39053140418699\n",
       "878048      -122,394925721424\n",
       "Name: X, Length: 878049, dtype: object"
      ]
     },
     "execution_count": 16,
     "metadata": {},
     "output_type": "execute_result"
    }
   ],
   "source": [
    "crime_df2['X']"
   ]
  },
  {
   "cell_type": "code",
   "execution_count": 25,
   "metadata": {},
   "outputs": [],
   "source": [
    "group = crimedf.groupby(['PdDistrict'])\n"
   ]
  },
  {
   "cell_type": "code",
   "execution_count": 32,
   "metadata": {},
   "outputs": [
    {
     "data": {
      "text/plain": [
       "PdDistrict\n",
       "BAYVIEW      -122.393359\n",
       "CENTRAL      -122.409507\n",
       "INGLESIDE    -122.428734\n",
       "MISSION      -122.419393\n",
       "NORTHERN     -122.426428\n",
       "PARK         -122.445369\n",
       "RICHMOND     -122.469782\n",
       "SOUTHERN     -122.405185\n",
       "TARAVAL      -122.477214\n",
       "TENDERLOIN   -122.412152\n",
       "Name: X, dtype: float64"
      ]
     },
     "execution_count": 32,
     "metadata": {},
     "output_type": "execute_result"
    }
   ],
   "source": [
    "group['X'].mean()\n"
   ]
  },
  {
   "cell_type": "code",
   "execution_count": 33,
   "metadata": {},
   "outputs": [
    {
     "name": "stdout",
     "output_type": "stream",
     "text": [
      "NORTHERN\n",
      "PARK\n",
      "INGLESIDE\n",
      "BAYVIEW\n",
      "RICHMOND\n",
      "CENTRAL\n",
      "TARAVAL\n",
      "TENDERLOIN\n",
      "MISSION\n",
      "SOUTHERN\n"
     ]
    }
   ],
   "source": [
    "for dist in crimedf['PdDistrict'].unique():\n",
    "    print dist\n",
    "    crimedf.at[crimedf['PdDistrict']==dist,'PDDistrict_long'] = group['X'].mean()[dist]\n",
    "    crimedf.at[crimedf['PdDistrict']==dist,'PDDistrict_lat'] = group['Y'].mean()[dist]"
   ]
  },
  {
   "cell_type": "code",
   "execution_count": 35,
   "metadata": {},
   "outputs": [],
   "source": [
    "crimedf.to_csv('crime_sf_full_win.csv',index=False,decimal=',')"
   ]
  },
  {
   "cell_type": "code",
   "execution_count": 36,
   "metadata": {},
   "outputs": [],
   "source": [
    "crimedf.to_csv('crime_sf_full.csv',index=False)"
   ]
  },
  {
   "cell_type": "code",
   "execution_count": null,
   "metadata": {},
   "outputs": [],
   "source": []
  }
 ],
 "metadata": {
  "kernelspec": {
   "display_name": "Python 2",
   "language": "python",
   "name": "python2"
  },
  "language_info": {
   "codemirror_mode": {
    "name": "ipython",
    "version": 2
   },
   "file_extension": ".py",
   "mimetype": "text/x-python",
   "name": "python",
   "nbconvert_exporter": "python",
   "pygments_lexer": "ipython2",
   "version": "2.7.15"
  }
 },
 "nbformat": 4,
 "nbformat_minor": 2
}
