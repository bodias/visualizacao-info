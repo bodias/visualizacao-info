{
 "cells": [
  {
   "cell_type": "markdown",
   "metadata": {},
   "source": [
    "<img src='imagens/d3logo.png' height=\"382\" width=\"574\">\n",
    "\n",
    "## O que é o D3.js?\n",
    "\n",
    "D3.js é uma biblioteca JavaScript utilizada para criar visualizações interativas no browser. o nome D3 significa **D**ata **D**riven **D**ocuments. A biblioteca nos permite manipular elementos de uma página web no contexto de um conjunto de dados. Esses elementos podem ser HTML, SVG, Canvas e podem ser introduzidos, removidos ou editados de acordo com o conteúdo do conjunto de dados. Ela é basicamente uma biblioteca para manipulação de objetos **DOM**. o D3.js pode ser um grande facilitador na exploração de dados e comunicação visual, pois ele permite controle total sobre a representação dos dados e permite adicionar interatividade.\n",
    "\n",
    "D3 é construído seguindo alguns padrões web :\n",
    "* HTML\n",
    "* CSS\n",
    "* DOM\n",
    "* SVG\n",
    "\n",
    "## Por que utilizar o D3.js\n",
    "\n",
    "D3.js é um dos melhores frameworks de visualização de dados atualmente, é open source, e pode ser utilizado desde visualizações simples até visualizações complexas com interação do usuário e efeitos de transição. \n",
    "\n",
    "Algumas características do framework :\n",
    "* Extremamente flexível;\n",
    "* Suporta grandes volumes de dados\n",
    "* Programação declarativa (Declarative programming)\n",
    "* Reusabilidade de código\n",
    "* Documentação extensa\n",
    "* Comunidade ativa\n",
    "* Fácil de usar*\n",
    "\n",
    "## Quem desenvolve o D3.js?\n",
    "\n",
    "**Mike Bostock** escreveu o framework baseado no seu trabalho durante os estudos de Doutorado no Grupo de Visualizações de dados de Stanford. O repositório github do Mike [(link)](https://github.com/mbostock) contém o código da biblioteca, a qual ele ainda mantém, mas atualmente muitas pessoas contribuem para o projeto adicionando componentes e plugins diversos.\n",
    "\n",
    "Quando utilizar o D3.js?\n",
    "Vários casos de uso, mas principalmente quando é necesssário criar **visualizações customizadas** onde é pré-requisito interagir com os dados de uma forma **controlada**."
   ]
  },
  {
   "cell_type": "markdown",
   "metadata": {},
   "source": [
    "## Acessando DOM através do Jupyter\n",
    "Abaixo importaremos uma biblioteca Python que utilizaremos para manipular HTML diretamente no Jupyter Notebook."
   ]
  },
  {
   "cell_type": "code",
   "execution_count": 2,
   "metadata": {},
   "outputs": [
    {
     "data": {
      "text/html": [
       "<script src=\"./d3.min.js\"></script>"
      ],
      "text/plain": [
       "<IPython.core.display.HTML object>"
      ]
     },
     "execution_count": 2,
     "metadata": {},
     "output_type": "execute_result"
    }
   ],
   "source": [
    "from IPython.core.display import HTML\n",
    "\n",
    "HTML('<script src=\"./d3.min.js\"></script>')"
   ]
  },
  {
   "cell_type": "markdown",
   "metadata": {},
   "source": [
    "## Componentes Básicos\n",
    "\n",
    "### HTML \n",
    "O HTML é uma linguagem de marcação de texto utilizado em páginas web. Elementos HTML são os componentes que constroem de uma página web HTML. Esses elementos consistem em um par de **tags** (marcadores de início em fim) e conteúdo textual ou gráfico dentro das tags."
   ]
  },
  {
   "cell_type": "code",
   "execution_count": null,
   "metadata": {},
   "outputs": [],
   "source": [
    "HTML('''\n",
    "<html>\n",
    "   <head>\n",
    "      <script src = \"https://d3js.org/d3.v4.min.js\"></script>\n",
    "   </head>\n",
    "   <style>\n",
    "      .red {\n",
    "\t\t\tbackground: red;\n",
    "\t\t}\n",
    "   </style>\n",
    "\n",
    "   <body>\n",
    "      <script>\n",
    "         // o codigo d3 vai aqui \n",
    "      </script>\n",
    "\t  \n",
    "\t  <div>\n",
    "\t    <p>Paragrafo de exemplo</p>\n",
    "\t\t  <p class=\"red\">Paragrafo vermelho</p>\n",
    "\t\t</div>\n",
    "\n",
    "\t\t<ol>\n",
    "\t\t  <li id=\"algum-id\">Elemento identificado via id</li>\n",
    "\t\t  <li>Elemento de lista</li>\n",
    "\t\t  <li>\n",
    "\t\t\t<p>Paragrafo dentro de um elemento lista</p>\n",
    "\t\t\t<p>Segundo paragrafo</p>\n",
    "\t\t  </li>\n",
    "\t\t</ol>\n",
    "   </body>\n",
    "''')"
   ]
  },
  {
   "cell_type": "markdown",
   "metadata": {},
   "source": [
    "### CSS\n",
    "O Cascading Style Sheet (CSS) é uma linguagem de estilo usada para descrever a apresentação do documento. Por apresentação nos referimos a aparência e a formatação dos elementos HTML. CSS pode ser aplicado a HTML, XML e mais importante para o D3.js, a SVG."
   ]
  },
  {
   "cell_type": "code",
   "execution_count": 20,
   "metadata": {},
   "outputs": [
    {
     "data": {
      "text/html": [
       "\n",
       "   <style>\n",
       "       .red {\n",
       "\t\t\tbackground: red;\n",
       "\t\t}\n",
       "        \n",
       "       .blue { \n",
       "        fill: blue;\n",
       "\t   }\n",
       "       \n",
       "\t   p {font-size : 12pt;}\n",
       "       \n",
       "       .fancy {\n",
       "          fill: none;\n",
       "          stroke: black; \n",
       "          stroke-width: 3pt; \n",
       "          stroke-dasharray: 3,5,10;\n",
       "        }\n",
       "   </style>\n"
      ],
      "text/plain": [
       "<IPython.core.display.HTML object>"
      ]
     },
     "execution_count": 20,
     "metadata": {},
     "output_type": "execute_result"
    }
   ],
   "source": [
    "HTML('''\n",
    "   <style>\n",
    "       .red {\n",
    "\t\t\tbackground: red;\n",
    "\t\t}\n",
    "        \n",
    "       .blue { \n",
    "        fill: blue;\n",
    "\t   }\n",
    "       \n",
    "\t   p {font-size : 12pt;}\n",
    "       \n",
    "       .fancy {\n",
    "          fill: none;\n",
    "          stroke: black; \n",
    "          stroke-width: 3pt; \n",
    "          stroke-dasharray: 3,5,10;\n",
    "        }\n",
    "   </style>\n",
    "''')"
   ]
  },
  {
   "cell_type": "markdown",
   "metadata": {},
   "source": [
    "### Document Object Model (DOM)\n",
    "Document Object Model (DOM) é uma convenção para representar e interagir com objetos em documentos HTML, XML e XHTML.\n",
    "Quando o navegador exibe uma página HTML, ele cria um grafo interativo das hierarquias de tags HTML. Quando nos referimos a essa estrutura nos referimos ao DOM.\n",
    "Ele é separado em três partes : Core, HTML e XML. O DOM permite que programas e scripts acessem e atualizem a estrutura, conteúdo e estilo de um documento de forma dinâmica. O grafo/árvore DOM pode ser usada para endereçar, manipular e navegar na estrutura do documento."
   ]
  },
  {
   "cell_type": "markdown",
   "metadata": {},
   "source": [
    "```\n",
    "## DOM API\n",
    "document.getElementById('algum-id');\n",
    "## <li id=\"algum-id\">Elemento identificado via id</li>\n",
    "document.getElementsByTagName('p').length;\n",
    "## 4\n",
    "var reds = document.getElementsByClassName('red');\n",
    "## <p class=\"red\">Parágrafo vermelho</p>\n",
    "reds[0].innerText\n",
    "## \"Parágrafo vermelho\"\n",
    "```"
   ]
  },
  {
   "cell_type": "markdown",
   "metadata": {},
   "source": [
    " Scalable Vector Graphics (SVG)\n",
    "SVG é uma família de especificações para criar gráficos vetoriais em duas dimensões. Gráficos vetoriais não são criados de píxels, e sim com **caminhos** (vetores) contendo um ponto inicial e final, pontos intermediários, curvas e ângulos.\n",
    "Imagens SVG podem ser incluídas em um documento HTML, e através do DOM podemos acessar essas imagens, alterar sua estrutura e conteúdo.\n",
    "\n",
    "Algumas elementos e formas básicas do SVG:\n",
    "* Retangulo\n",
    "* Círculo\n",
    "* Elipse\n",
    "* Linha reta\n",
    "* Poli-linha\n",
    "* Polígono"
   ]
  },
  {
   "cell_type": "markdown",
   "metadata": {},
   "source": [
    "#### Retangulo"
   ]
  },
  {
   "cell_type": "code",
   "execution_count": null,
   "metadata": {},
   "outputs": [],
   "source": [
    "HTML('''<svg class=\"blue\" width=\"50\" height=\"50\">\n",
    "  <rect x=\"0\" y=\"0\" width=\"50\" height=\"50\"/>\n",
    "</svg>''')"
   ]
  },
  {
   "cell_type": "markdown",
   "metadata": {},
   "source": [
    "#### Círculo"
   ]
  },
  {
   "cell_type": "code",
   "execution_count": null,
   "metadata": {},
   "outputs": [],
   "source": [
    "HTML('''<svg width=\"50\" height=\"50\">\n",
    "  <circle cx=\"25\" cy=\"25\" r=\"25\" fill=\"purple\" />\n",
    "</svg>''')"
   ]
  },
  {
   "cell_type": "markdown",
   "metadata": {},
   "source": [
    "#### Elipse"
   ]
  },
  {
   "cell_type": "code",
   "execution_count": null,
   "metadata": {},
   "outputs": [],
   "source": [
    "HTML('''<svg width=\"50\" height=\"50\">\n",
    "  <ellipse cx=\"25\" cy=\"25\" rx=\"15\" ry=\"10\" fill=\"red\" />\n",
    "</svg>''')"
   ]
  },
  {
   "cell_type": "markdown",
   "metadata": {},
   "source": [
    "#### Linha reta"
   ]
  },
  {
   "cell_type": "code",
   "execution_count": null,
   "metadata": {},
   "outputs": [],
   "source": [
    "HTML('''<svg width=\"50\" height=\"50\">\n",
    "  <line x1=\"5\" y1=\"5\" x2=\"40\" y2=\"40\" stroke=\"gray\" stroke-width=\"5\"  />\n",
    "</svg>''')"
   ]
  },
  {
   "cell_type": "markdown",
   "metadata": {},
   "source": [
    "#### Poli-linha"
   ]
  },
  {
   "cell_type": "code",
   "execution_count": null,
   "metadata": {},
   "outputs": [],
   "source": [
    "HTML('''<svg width=\"50\" height=\"50\">\n",
    "  <polyline fill=\"none\" stroke=\"blue\" stroke-width=\"2\"\n",
    "            points=\"05,30\n",
    "                    15,30\n",
    "                    15,20\n",
    "                    25,20\n",
    "                    25,10\n",
    "                    35,10\" />\n",
    "</svg>''')"
   ]
  },
  {
   "cell_type": "markdown",
   "metadata": {},
   "source": [
    "#### Polígono"
   ]
  },
  {
   "cell_type": "code",
   "execution_count": null,
   "metadata": {},
   "outputs": [],
   "source": [
    "HTML('''<svg width=\"50\" height=\"50\">\n",
    "  <polygon fill=\"yellow\" stroke=\"blue\" stroke-width=\"2\"\n",
    "           points=\"05,30\n",
    "                   15,10\n",
    "                   25,30\" />\n",
    "</svg>''')"
   ]
  },
  {
   "cell_type": "markdown",
   "metadata": {},
   "source": [
    "## D3.js - operadores\n",
    "\n",
    "A biblioteca D3.js traz uma série de operadores para manipular os elementos DOM."
   ]
  },
  {
   "cell_type": "markdown",
   "metadata": {},
   "source": [
    "### operador select()\n",
    "\n",
    "O D3.js tem como uma das funcionalidades mais básicas a seleção de um elemento DOM via d3.select(). Ela utiliza seletores CSS3 para selecionar os elementos. Para saber mais sobre CSS3 clique [aqui](http://www.w3.org/TR/css3-selectors/#selectors).\n",
    "\n",
    "O D3 olha o documento e seleciona o primeiro elemento DOM **descendente** que contém a tag indicada.Uma vez um elemento é selecionado, o D3.js permite aplicar operadores ao elemento. Esses operadores podem obter ou atribuir coisas como \"attributes\", \"properties\", \"styles\", \"HTML\", e \"text\".\n",
    "\n",
    "\n",
    "### operador apend()\n",
    "O operador append() inclui um novo elemento como sendo o último filho do elemento da seleção atual."
   ]
  },
  {
   "cell_type": "code",
   "execution_count": 23,
   "metadata": {},
   "outputs": [
    {
     "data": {
      "text/html": [
       "<script src=\"./d3.min.js\"></script>"
      ],
      "text/plain": [
       "<IPython.core.display.HTML object>"
      ]
     },
     "execution_count": 23,
     "metadata": {},
     "output_type": "execute_result"
    }
   ],
   "source": [
    "HTML('''<script>d3.select(\"#algum-id\").append(\"p\").text(\"texto adicionado dinamicamente\");</script>''')"
   ]
  },
  {
   "cell_type": "markdown",
   "metadata": {},
   "source": [
    "### Trabalhando com SVG\n",
    "Abaixo vamos usar os comandos select() e append() para criar um círculo via SVG."
   ]
  },
  {
   "cell_type": "code",
   "execution_count": null,
   "metadata": {},
   "outputs": [],
   "source": [
    "HTML('''<div id=\"primeiro-grafico\"><p>Primeiro grafico</p></div>''')"
   ]
  },
  {
   "cell_type": "code",
   "execution_count": 6,
   "metadata": {},
   "outputs": [
    {
     "data": {
      "text/html": [
       "\n",
       "<script>\n",
       "d3.select(\"#primeiro-grafico\").append(\"svg\")\n",
       "            .attr(\"width\", 50)\n",
       "            .attr(\"height\", 50)\n",
       "            .append(\"circle\")\n",
       "            .attr(\"cx\", 25)\n",
       "            .attr(\"cy\", 25)\n",
       "            .attr(\"r\", 25).style(\"fill\", \"purple\");\n",
       "</script>\n"
      ],
      "text/plain": [
       "<IPython.core.display.HTML object>"
      ]
     },
     "execution_count": 6,
     "metadata": {},
     "output_type": "execute_result"
    }
   ],
   "source": [
    "HTML('''\n",
    "<script>\n",
    "d3.select(\"#primeiro-grafico\").append(\"svg\")\n",
    "            .attr(\"width\", 50)\n",
    "            .attr(\"height\", 50)\n",
    "            .append(\"circle\")\n",
    "            .attr(\"cx\", 25)\n",
    "            .attr(\"cy\", 25)\n",
    "            .attr(\"r\", 25).style(\"fill\", \"purple\");\n"
   ]
  },
  {
   "cell_type": "markdown",
   "metadata": {},
   "source": [
    "### Data binding\n",
    "\n",
    "Okay, mas como trabalhar com gráficos?\n",
    "Vamos introduzir o conceito de data binding usando um exemplo simples."
   ]
  },
  {
   "cell_type": "code",
   "execution_count": null,
   "metadata": {},
   "outputs": [],
   "source": [
    "HTML('''<div id=\"segundo-grafico\"></div>''')"
   ]
  },
  {
   "cell_type": "code",
   "execution_count": 14,
   "metadata": {},
   "outputs": [
    {
     "data": {
      "text/html": [
       "\n",
       "<script>\n",
       "var theData = [ 1, 2, 3 ]\n",
       "\n",
       "var p = d3.select(\"#segundo-grafico\").selectAll(\"p\")\n",
       "  .data(theData)\n",
       "  .enter()\n",
       "  .append(\"p\")\n",
       "  .text(\"hello \");\n",
       "</script>\n"
      ],
      "text/plain": [
       "<IPython.core.display.HTML object>"
      ]
     },
     "execution_count": 14,
     "metadata": {},
     "output_type": "execute_result"
    }
   ],
   "source": [
    "HTML('''\n",
    "<script>\n",
    "var theData = [ 1, 2, 3 ]\n",
    "\n",
    "var p = d3.select(\"#segundo-grafico\").selectAll(\"p\")\n",
    "  .data(theData)\n",
    "  .enter()\n",
    "  .append(\"p\")\n",
    "  .text(\"hello \");\n",
    "</script>\n",
    "''')\n"
   ]
  }
 ],
 "metadata": {
  "kernelspec": {
   "display_name": "Python 2",
   "language": "python",
   "name": "python2"
  },
  "language_info": {
   "codemirror_mode": {
    "name": "ipython",
    "version": 2
   },
   "file_extension": ".py",
   "mimetype": "text/x-python",
   "name": "python",
   "nbconvert_exporter": "python",
   "pygments_lexer": "ipython2",
   "version": "2.7.15"
  }
 },
 "nbformat": 4,
 "nbformat_minor": 2
}
