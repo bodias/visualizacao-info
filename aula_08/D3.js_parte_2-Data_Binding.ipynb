{
 "cells": [
  {
   "cell_type": "code",
   "execution_count": 1,
   "metadata": {},
   "outputs": [
    {
     "data": {
      "text/html": [
       "<script src=\"./d3.min.js\"></script>"
      ],
      "text/plain": [
       "<IPython.core.display.HTML object>"
      ]
     },
     "execution_count": 1,
     "metadata": {},
     "output_type": "execute_result"
    }
   ],
   "source": [
    "from IPython.core.display import HTML\n",
    "\n",
    "HTML('<script src=\"./d3.min.js\"></script>')"
   ]
  },
  {
   "cell_type": "markdown",
   "metadata": {},
   "source": [
    "<img src='imagens/d3logo.PNG' height=\"382\" width=\"574\">\n",
    "\n",
    "## 1. Data binding - Continuação\n",
    "Vamos revisitar o simples exemplo da última aula. "
   ]
  },
  {
   "cell_type": "code",
   "execution_count": null,
   "metadata": {},
   "outputs": [],
   "source": [
    "HTML('''<div id=\"segundo-grafico\"></div>''')"
   ]
  },
  {
   "cell_type": "code",
   "execution_count": 4,
   "metadata": {},
   "outputs": [
    {
     "data": {
      "text/html": [
       "\n",
       "<script>\n",
       "var theData = [ 1, 2, 3 ]\n",
       "\n",
       "var p = d3.select(\"#segundo-grafico\").selectAll(\"p\")\n",
       "  .data(theData)\n",
       "  .enter()\n",
       "  .append(\"p\")\n",
       "  .text(\"hello \");\n",
       "</script>\n"
      ],
      "text/plain": [
       "<IPython.core.display.HTML object>"
      ]
     },
     "execution_count": 4,
     "metadata": {},
     "output_type": "execute_result"
    }
   ],
   "source": [
    "HTML('''\n",
    "<script>\n",
    "var theData = [ 1, 2, 3 ]\n",
    "\n",
    "var p = d3.select(\"#segundo-grafico\").selectAll(\"p\")\n",
    "  .data(theData)\n",
    "  .enter()\n",
    "  .append(\"p\")\n",
    "  .text(\"hello \");\n",
    "</script>\n",
    "''')\n"
   ]
  },
  {
   "cell_type": "markdown",
   "metadata": {},
   "source": [
    "Parabéns, nós vinculamos dados aos elementos DOM usando D3.js!"
   ]
  },
  {
   "cell_type": "markdown",
   "metadata": {},
   "source": [
    "### Método selectAll()\n",
    "O código JavaScript que vimos na aula passada traz um uma funcionalidade que não havíamos visto ainda, **.selectAll(\"p\")**\n",
    "\n",
    "O método selectAll usa seletores CSS3 para selecionar elementos DOM. Diferentemente do método select() (onde o primeiro elemento é selecionado), o método selectAll() seleciona todos os elementos que são iguais a string passada para o seletor.\n",
    "\n",
    "Como assim? O template HTML não contém nenhum elemento **```<p>```** ainda. O que exatamente está acontecendo? Bem, o método selectAll() está selecionando todos os ```<p>``` da página, que atualmente é igual a nenhum. Dessa forma, o seletor retorna uma seleção vazia.\n",
    "    \n",
    "Mais tarde usaremos **.data()** e **.enter()** que nos permite vincular os dados a essa seleção vazia."
   ]
  },
  {
   "cell_type": "markdown",
   "metadata": {},
   "source": [
    "### Método .data()\n",
    "A próxima parte do código javascript de exemplo que não foi discutida é a função **.data(theData)**\n",
    "\n",
    "O método data() vincula um array de dados (que pode ser números, objetos ou outros arrays) na seleção atual.\n",
    "\n",
    "No nosso exemplo, cada elementos do array theData é atribuído a um elemento da seleção atual. O primeiro elemento é atribuído ao primeiro elemento ```<p>```, o segundo ao segundo ```<p>```, e assim por diante.\n",
    "    \n",
    "Ok, mas a página ainda não contém nenhum elemento ```<p>``` ainda. O que de fato está acontecendo?"
   ]
  },
  {
   "cell_type": "markdown",
   "metadata": {},
   "source": [
    "### Seleções Virtuais / Virtual Selections\n",
    "O método .data() possui três operações de **seleções virtual** :\n",
    "\n",
    "* enter() : contém placeholders para qualquer elemento faltante;\n",
    "* update() : atualiza a seleção contendo elementos existentes, vinculado aos dados;\n",
    "* exit() : Qualquer elemento restante acaba no seletor exit() para remoção;\n",
    "\n",
    "Uma vez que nossa seleção inicial...\n",
    "\n",
    "```\n",
    "d3.select(\"#segundo-grafico\").selectAll(\"p\")\n",
    "```\n",
    "...estava vazia, o método de seleção virtual enter() agora contém placeholders para nossos elementos ```<p>``` =D .\n",
    "    \n",
    "Para o presente exemplo vamos nos concentrar no método enter(). Para ler mais sobre o assunto, Mike Bostock escreveu um artigo interessante intitulado [\"Thinking with Joins\".](http://bost.ocks.org/mike/join/)\n",
    "\n",
    "Vamos simplificar um pouco nosso código removendo o metodo .text():"
   ]
  },
  {
   "cell_type": "code",
   "execution_count": 6,
   "metadata": {},
   "outputs": [
    {
     "data": {
      "text/html": [
       "<div id=\"segundo-grafico\"></div>"
      ],
      "text/plain": [
       "<IPython.core.display.HTML object>"
      ]
     },
     "execution_count": 6,
     "metadata": {},
     "output_type": "execute_result"
    }
   ],
   "source": [
    "HTML('''<div id=\"segundo-grafico\"></div>''')"
   ]
  },
  {
   "cell_type": "code",
   "execution_count": 7,
   "metadata": {},
   "outputs": [
    {
     "data": {
      "text/html": [
       "\n",
       "<script>\n",
       "var theData = [ 1, 2, 3 ]\n",
       "\n",
       "var p = d3.select(\"#segundo-grafico\").selectAll(\"p\")\n",
       "  .data(theData)\n",
       "  .enter()\n",
       "  .append(\"p\");\n",
       "</script>\n"
      ],
      "text/plain": [
       "<IPython.core.display.HTML object>"
      ]
     },
     "execution_count": 7,
     "metadata": {},
     "output_type": "execute_result"
    }
   ],
   "source": [
    "HTML('''\n",
    "<script>\n",
    "var theData = [ 1, 2, 3 ]\n",
    "\n",
    "var p = d3.select(\"#segundo-grafico\").selectAll(\"p\")\n",
    "  .data(theData)\n",
    "  .enter()\n",
    "  .append(\"p\");\n",
    "</script>\n",
    "''')\n"
   ]
  },
  {
   "cell_type": "markdown",
   "metadata": {},
   "source": [
    "### Método enter()\n",
    "O método enter() retorna uma seleção virtual sobre o operador .data(). Este método funcionará somente sobre esse operador pois ele é o único que retorna seleções virtuais.\n",
    "\n",
    "No caso abaixo:\n",
    "```\n",
    "var p = d3.select(\"#segundo-grafico\").selectAll(\"p\")\n",
    "  .data(theData)\n",
    "  .enter()\n",
    "```\n",
    "O método vai retornar uma referência aos elementos placeholder para cada elemento que não tem um elemento DOM correspondente.\n",
    "\n",
    "Uma vez tendo essa referência, nós podemos operar nessa seleção.\n",
    "\n",
    "Entretanto, é importante notar que essa referência virutal permite apenas o encadeamento de operadores append(), insert() e select() sobre ele.\n",
    "\n",
    "Depois que esses operadores forem encadeados a seleção **.enter()**, nós podemos tratá-los como qualquer outra seleção e modificar o conteúdo."
   ]
  },
  {
   "cell_type": "markdown",
   "metadata": {},
   "source": [
    "### Revisitando o método append()\n",
    "Olhando o código novamente :\n",
    "```\n",
    "var p = d3.select(\"#segundo-grafico\").selectAll(\"p\")\n",
    "  .data(theData)\n",
    "  .enter()\n",
    "  .append(\"p\")\n",
    "```\n",
    "Nós adicionamos .append(\"p\") a seleção .enter().\n",
    "\n",
    "Para cada elemento placeholder criado no passo anterior, um elemento p é inserido. Como tinhamos três elementos no nosso array theData, e nenhum elemento ```<p>``` na página, o método .append(\"p\") criará e adicionará três elementos ```<p>``` ao documento HTML.\n",
    "\n",
    "No exemplo, depois que o operador append() realizar a seleção, ele vai retornar três elementos de parágrafo HTML como resultado final."
   ]
  },
  {
   "cell_type": "markdown",
   "metadata": {},
   "source": [
    "### Para onde foram os dados?\n",
    "Nosso exemplo começa com um Array de dados :\n",
    "```\n",
    "var theData = [ 1, 2, 3 ]\n",
    "```\n",
    "E, de alguma maneira nos terminamos com três parágrafos com o texto \"Hello\".\n",
    "\n",
    "O que aconteceu com os números 1, 2 e 3?"
   ]
  },
  {
   "cell_type": "code",
   "execution_count": 8,
   "metadata": {},
   "outputs": [
    {
     "data": {
      "text/html": [
       "<div id=\"terceiro-grafico\"></div>"
      ],
      "text/plain": [
       "<IPython.core.display.HTML object>"
      ]
     },
     "execution_count": 8,
     "metadata": {},
     "output_type": "execute_result"
    }
   ],
   "source": [
    "HTML('''<div id=\"terceiro-grafico\"></div>''')"
   ]
  },
  {
   "cell_type": "markdown",
   "metadata": {},
   "source": [
    "### Revisitando o método .data()\n",
    "Vamos dar uma olhada no nosso .data novamente com um simples exemplo utilizando o console do navegador :\n",
    "```\n",
    "console.log(d3.select(\"#terceiro-grafico\"));\n",
    "```\n",
    "Quando apertado \"enter\" e clicado nas setas para ver as propriedades do \"div#terceiro-grafico\", deverá ser exibido algo assim :\n",
    "\n",
    "<img src='imagens/data_binding01.PNG'>"
   ]
  },
  {
   "cell_type": "markdown",
   "metadata": {},
   "source": [
    "Agora, execute o seguinte exemplo no console com o operador .data() adicionado:\n",
    "```\n",
    "console.log(d3.select(\"#terceiro-grafico\").data([999]));\n",
    "```\n",
    "Nosso dado (999) aparece como uma propriedade chamada **```__data__```** :\n",
    "\n",
    "<img src='imagens/data_binding02.PNG'>"
   ]
  },
  {
   "cell_type": "markdown",
   "metadata": {},
   "source": [
    "Quando dados são atribuídos a um elemento, ele é armazenado na propriedade **```__data__```**.\n",
    "\n",
    "Isso é o que queremos dizer quando falamos **Vincular Dados aos elementos DOM**."
   ]
  },
  {
   "cell_type": "markdown",
   "metadata": {},
   "source": [
    "### Revisitando o exemplo básico\n",
    "Voltando ao exemplo básico explicado no início desse documento, nós podemos ver os dados que foram vinculados ao elementos ```<p>``` usando o comando ```console.log(p)```.\n",
    "\n",
    "Primeiro, vamos criar uma nova div :"
   ]
  },
  {
   "cell_type": "code",
   "execution_count": null,
   "metadata": {},
   "outputs": [],
   "source": [
    "HTML('''<div id=\"quarto-grafico\"></div>''')"
   ]
  },
  {
   "cell_type": "markdown",
   "metadata": {},
   "source": [
    "Depois, vamos executar os comando abaixo no console: \n",
    "```\n",
    "var theData = [ 1, 2, 3 ]\n",
    "\n",
    "var p = d3.select(\"#quarto-grafico\").selectAll(\"p\")\n",
    "  .data(theData)\n",
    "  .enter()\n",
    "  .append(\"p\")\n",
    "  .text(\"hello \");\n",
    "  \n",
    "console.log(p);\n",
    "```\n",
    "\n",
    "Abaixo vemos o resultado, com a vinculação de 3 novos elementos ```<p>``` a div recém criada. Se explorarmos cada um dos elementos do array veremos que cada um possue o elemento **```__data__```** contendo o respectivo valor do nosso array de dados:\n",
    "\n",
    "<img src='imagens/data_binding03.PNG'>"
   ]
  },
  {
   "cell_type": "markdown",
   "metadata": {},
   "source": [
    "## 2. Utilizando os dados vinculados aos elementos DOM\n",
    "Conforme vimos anteriormente, cada elemento DOM, quando vinculado aos dados usando .data(), possue uma propriedade **```__data__```** contendo o respectivo objeto vinculado.\n",
    "\n",
    "Como podemos acessar esse valor via D3.js?\n",
    "\n",
    "<img src='imagens/data_element.PNG'>"
   ]
  },
  {
   "cell_type": "markdown",
   "metadata": {},
   "source": [
    "Vamos criar um quinto **```<div>```** "
   ]
  },
  {
   "cell_type": "code",
   "execution_count": null,
   "metadata": {},
   "outputs": [],
   "source": [
    "HTML('''<div id=\"quinto-grafico\"></div>''')"
   ]
  },
  {
   "cell_type": "markdown",
   "metadata": {},
   "source": [
    "Agora, vamos executar o código abaixo no console javascript : \n",
    "\n",
    "```\n",
    "var theData = [ 1, 2, 3 ]\n",
    "\n",
    "var p = d3.select(\"#quinto-grafico\").selectAll(\"p\")\n",
    "  .data(theData)\n",
    "  .enter()\n",
    "  .append(\"p\")\n",
    "  .text(function (d) { return d; } );\n",
    "```"
   ]
  },
  {
   "cell_type": "markdown",
   "metadata": {},
   "source": [
    "Pronto! Agora temos o valor da propriedade \"text\" dinâmicamente atribuído de acordo com cada valor vínculado."
   ]
  },
  {
   "cell_type": "markdown",
   "metadata": {},
   "source": [
    "### Funções JavaScript em operadores D3.js\n",
    "O que acabamos de fazer é passar uma função JavaScript como um argumento de uma função.\n",
    "\n",
    "**```function (d) { return d; }```**\n",
    "\n",
    "Para quem não é familiarizado com funções JavaScript, segue abaixo uma pequena descrição :\n",
    "\n",
    "```\n",
    "function functionName (variableName) {\n",
    "  return variableName;\n",
    "}\n",
    "```"
   ]
  },
  {
   "cell_type": "markdown",
   "metadata": {},
   "source": [
    "## 3. Criando elementos SVG baseados em dados\n",
    "Ok, agora que sabemos como acessar cada ponto do array de dados, como utilizar em conjunto com elementos SVG para criar gráficos?\n",
    "\n",
    "Vamos começar criando um elemento **retângulo** básico para observarmos as suas propriedades, por meio do comando abaixo :"
   ]
  },
  {
   "cell_type": "code",
   "execution_count": null,
   "metadata": {},
   "outputs": [],
   "source": [
    "HTML('''<svg fill=\"blue\" width=\"50\" height=\"50\">\n",
    "  <rect x=\"0\" y=\"0\" width=\"50\" height=\"50\"/>\n",
    "</svg>''')"
   ]
  },
  {
   "cell_type": "markdown",
   "metadata": {},
   "source": [
    "Repare que o retângulo possue 4 propriedades básicas:\n",
    "* x=\"0\" \n",
    "* y=\"0\" \n",
    "* width=\"50\" \n",
    "* height=\"50\""
   ]
  },
  {
   "cell_type": "markdown",
   "metadata": {},
   "source": [
    "Antes de utilizarmos o D3 para criarmos um novo elementos SVG programáticamente, vamos explicar como funciona o sistema de coordenadas que utilizaremos:\n",
    "\n",
    "<img src='imagens/svg_coordinate_graph.png'>\n",
    "\n",
    "Como é possível observar, a **posição (0,0) se encontra no canto superior esquerdo**, e não no canto inferior esquerdo como normalmente utilizamos.\n",
    "Dessa maneira, o eixo Y fica invertido, e cresce no sentido contrário, ou seja, para baixo :\n",
    "\n",
    "<img src='imagens/svg_coordinate_graph2.png'>\n",
    "\n",
    "A seguir vamos criar um novo div, chamado \"sexto-grafico\" onde vamos criar um retângulo programaticamente tendo em vista esse novo sistema de coordenadas."
   ]
  },
  {
   "cell_type": "code",
   "execution_count": null,
   "metadata": {},
   "outputs": [],
   "source": [
    "HTML('''<div id=\"sexto-grafico\"></div>''')"
   ]
  },
  {
   "cell_type": "code",
   "execution_count": 16,
   "metadata": {},
   "outputs": [
    {
     "data": {
      "text/html": [
       "\n",
       "<script>\n",
       "var retangulos = [200,100,300,150,250,50,290];\n",
       "\n",
       "var margin_left = 5;\n",
       "var margin_bottom = 5;\n",
       "var width = 50;\n",
       "\n",
       "var divSelection = d3.select(\"#sexto-grafico\");\n",
       "\n",
       "var svgContainer = divSelection.append(\"svg\")\n",
       "                                .attr(\"width\", 390)\n",
       "                                .attr(\"height\", 400)\n",
       "                                .style(\"border\", \"1px solid black\");\n",
       "\n",
       "var rect = svgContainer.selectAll(\"rect\")\n",
       "                       .data(retangulos)\n",
       "                       .enter()\n",
       "                       .append(\"rect\");\n",
       "                                  \n",
       "var rectAttributes = rect.attr(\"x\", function (d,i) { return margin_left+((i*margin_left)+(i*width));})\n",
       "                         .attr(\"y\", function (d) { return 400-margin_bottom-d})\n",
       "                         .attr(\"width\", width)\n",
       "                         .attr(\"height\",function (d) { return d })\n",
       "                         .style(\"fill\", \"blue\");\n",
       "                                  \n",
       "</script>\n"
      ],
      "text/plain": [
       "<IPython.core.display.HTML object>"
      ]
     },
     "execution_count": 16,
     "metadata": {},
     "output_type": "execute_result"
    }
   ],
   "source": [
    "HTML('''\n",
    "<script>\n",
    "var retangulos = [200,100,300,150,250,50,290];\n",
    "\n",
    "var margin_left = 5;\n",
    "var margin_bottom = 5;\n",
    "var width = 50;\n",
    "\n",
    "var divSelection = d3.select(\"#sexto-grafico\");\n",
    "\n",
    "var svgContainer = divSelection.append(\"svg\")\n",
    "                                .attr(\"width\", 390)\n",
    "                                .attr(\"height\", 400)\n",
    "                                .style(\"border\", \"1px solid black\");\n",
    "\n",
    "var rect = svgContainer.selectAll(\"rect\")\n",
    "                       .data(retangulos)\n",
    "                       .enter()\n",
    "                       .append(\"rect\");\n",
    "                                  \n",
    "var rectAttributes = rect.attr(\"x\", function (d,i) { return margin_left+((i*margin_left)+(i*width));})\n",
    "                         .attr(\"y\", function (d) { return 400-margin_bottom-d})\n",
    "                         .attr(\"width\", width)\n",
    "                         .attr(\"height\",function (d) { return d })\n",
    "                         .style(\"fill\", \"blue\");\n",
    "                                  \n",
    "</script>\n",
    "''')"
   ]
  },
  {
   "cell_type": "markdown",
   "metadata": {},
   "source": [
    "Pronto! Temos nosso primeiro gráfico gerado via D3.js!\n",
    "\n",
    "Vamos explorar um pouco dos atributos do retângulo que foram manipulados dinâmicamente :\n",
    "```\n",
    "rect.attr(\"x\", function (d,i) { return margin_left+((i*width)+(i*margin_left));})\n",
    "```\n",
    "a função **function (d,i)** possue dois argumentos, **d**, que indica o dado vinculado, e **i**, que a posição original daquele dado no vetor. \n",
    "\n",
    "Nesse bloco estamos atribuíndo ao valor de **x** do retângulo uma função, que é um cálculo que utiliza uma ***margem*** + ***a posição da barra de acordo com a posição dela no vetor*** (note aqui que o vetor inicia em 0, logo a primeira barra inicia logo após a margem)\n",
    "\n",
    "Vamos analisar o valor de **y**:\n",
    "```\n",
    ".attr(\"y\", function (d) { return 400-margin_bottom-d})\n",
    "```                  \n",
    "Para chegarmos a coordenada y, começamos do ponto 400, que é o canto inferior esquerdo do nosso canvas que tem 400 de altura. Como vimos anteriormente, o eixo Y começa no canto superior esquerdo e cresce para baixo. Dessa forma, posicionamos a coordenadas y onde a nossa barra deveria terminar, e a seguir atribuiremos a altura dela :\n",
    "\n",
    "```\n",
    ".attr(\"height\",function (d) { return d })\n",
    "```\n",
    "Na função acima estamos definindo que a altura da barra é simplesmente o valor do ponto de dado (```__data__```) vinculado ao retângulo.\n",
    "\n",
    "Agora, reutilizaremos algumas variáveis já criadas no script anterior, e adicionaremos rótulos a cada barra indicando o valor dela :"
   ]
  },
  {
   "cell_type": "code",
   "execution_count": 17,
   "metadata": {},
   "outputs": [
    {
     "data": {
      "text/html": [
       "\n",
       "<script>\n",
       "var text = svgContainer.selectAll(\"text\")\n",
       "                        .data(retangulos)\n",
       "                        .enter()\n",
       "                        .append(\"text\");\n",
       "\n",
       "var textLabels = text\n",
       "                 .attr(\"x\", function (d,i) { return margin_left+((i*margin_left)+(i*width))+8;})\n",
       "                 .attr(\"y\", function (d) { return 400-margin_bottom-d+20})\n",
       "                 .text( function (d) { return d; })\n",
       "                 .attr(\"font-family\", \"sans-serif\")\n",
       "                 .attr(\"font-size\", \"20px\")\n",
       "                 .attr(\"fill\", \"white\");\n",
       "</script>\n"
      ],
      "text/plain": [
       "<IPython.core.display.HTML object>"
      ]
     },
     "execution_count": 17,
     "metadata": {},
     "output_type": "execute_result"
    }
   ],
   "source": [
    "HTML('''\n",
    "<script>\n",
    "var text = svgContainer.selectAll(\"text\")\n",
    "                        .data(retangulos)\n",
    "                        .enter()\n",
    "                        .append(\"text\");\n",
    "\n",
    "var textLabels = text\n",
    "                 .attr(\"x\", function (d,i) { return margin_left+((i*margin_left)+(i*width))+8;})\n",
    "                 .attr(\"y\", function (d) { return 400-margin_bottom-d+20})\n",
    "                 .text( function (d) { return d; })\n",
    "                 .attr(\"font-family\", \"sans-serif\")\n",
    "                 .attr(\"font-size\", \"20px\")\n",
    "                 .attr(\"fill\", \"white\");\n",
    "</script>\n",
    "''')"
   ]
  },
  {
   "cell_type": "markdown",
   "metadata": {},
   "source": [
    "Repare que a lógica é semelhante, **svgContainer.selectAll(\"text\")** cria um seletor virtual de um elemento que não existe, e utilizando os métodos .data() e .enter() inserimos uma propriedade de texto - .append(\"text\") - que originalmente não existia."
   ]
  },
  {
   "attachments": {},
   "cell_type": "markdown",
   "metadata": {},
   "source": [
    "## 4. Conclusão\n",
    "\n",
    "Esses exemplos cobrem o básico da criação de gráficos utilizando D3.js, introduzindo conceitos que são as principais diferenças do framework, como Seletores Virtuais e Data Binding.\n",
    "\n",
    "Espero que, com essa pequena introdução seja possível explorar melhor as capacidades do D3.js e criar visualizações ricas em detalhes.\n",
    "\n",
    "=D\n",
    "\n",
    "## 5. Referências e materiais adicionais\n",
    "* [https://github.com/d3/d3/wiki](https://github.com/d3/d3/wiki)\n",
    "* [https://www.tutorialspoint.com/d3js/d3js_selections.htm](https://www.tutorialspoint.com/d3js/d3js_selections.htm)\n",
    "* [https://square.github.io/intro-to-d3/parts-of-a-graph/](https://square.github.io/intro-to-d3/parts-of-a-graph/)\n",
    "\n"
   ]
  },
  {
   "cell_type": "code",
   "execution_count": null,
   "metadata": {},
   "outputs": [],
   "source": []
  }
 ],
 "metadata": {
  "kernelspec": {
   "display_name": "Python 2",
   "language": "python",
   "name": "python2"
  },
  "language_info": {
   "codemirror_mode": {
    "name": "ipython",
    "version": 2
   },
   "file_extension": ".py",
   "mimetype": "text/x-python",
   "name": "python",
   "nbconvert_exporter": "python",
   "pygments_lexer": "ipython2",
   "version": "2.7.15"
  }
 },
 "nbformat": 4,
 "nbformat_minor": 2
}
